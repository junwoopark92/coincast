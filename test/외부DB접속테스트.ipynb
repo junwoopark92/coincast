{
 "cells": [
  {
   "cell_type": "code",
   "execution_count": 11,
   "metadata": {},
   "outputs": [
    {
     "name": "stdout",
     "output_type": "stream",
     "text": [
      "('bch', 1513693281, 38128.0, 22998.3, 2479400, 2753000, 2941300, 2289100, 2062900, 2390000, 2497600, 2034900, datetime.datetime(2017, 12, 19, 23, 21, 20), datetime.datetime(2017, 12, 19, 23, 21, 20))\n",
      "('bch', 1513693295, 38085.9, 22998.3, 2465000, 2748500, 2941300, 2289100, 2062900, 2390000, 2497600, 2034900, datetime.datetime(2017, 12, 19, 23, 21, 35), datetime.datetime(2017, 12, 19, 23, 21, 35))\n",
      "('bch', 1513693310, 38018.9, 22998.3, 2465100, 2751600, 2941300, 2289100, 2062900, 2390000, 2497600, 2034900, datetime.datetime(2017, 12, 19, 23, 21, 49), datetime.datetime(2017, 12, 19, 23, 21, 49))\n",
      "('bch', 1513693324, 38001.8, 22998.3, 2476100, 2751600, 2941300, 2289100, 2062900, 2390000, 2497600, 2034900, datetime.datetime(2017, 12, 19, 23, 22, 4), datetime.datetime(2017, 12, 19, 23, 22, 4))\n",
      "('bch', 1513693737, 36922.7, 22998.3, 2420500, 2766000, 2941300, 2289100, 2062900, 2390000, 2497600, 2034900, datetime.datetime(2017, 12, 19, 23, 28, 56), datetime.datetime(2017, 12, 19, 23, 28, 56))\n"
     ]
    }
   ],
   "source": [
    "import pymysql\n",
    "\n",
    "conn = pymysql.connect(host='49.142.50.199',\n",
    "        user='REAL',\n",
    "        port=3306,\n",
    "        password='coincast',\n",
    "        charset='utf8')\n",
    "\n",
    "curs = conn.cursor()\n",
    "\n",
    "sql = \"select * from CC_REAL.coinone_ticks Limit 5\"\n",
    "curs.execute(sql)\n",
    "\n",
    "rows = curs.fetchall()\n",
    "for row in rows:\n",
    "    print(row)"
   ]
  },
  {
   "cell_type": "code",
   "execution_count": null,
   "metadata": {
    "collapsed": true
   },
   "outputs": [],
   "source": []
  }
 ],
 "metadata": {
  "kernelspec": {
   "display_name": "Python 3",
   "language": "python",
   "name": "python3"
  },
  "language_info": {
   "codemirror_mode": {
    "name": "ipython",
    "version": 3
   },
   "file_extension": ".py",
   "mimetype": "text/x-python",
   "name": "python",
   "nbconvert_exporter": "python",
   "pygments_lexer": "ipython3",
   "version": "3.6.1"
  }
 },
 "nbformat": 4,
 "nbformat_minor": 2
}
